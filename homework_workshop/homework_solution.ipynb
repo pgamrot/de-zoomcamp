{
 "cells": [
  {
   "metadata": {
    "ExecuteTime": {
     "end_time": "2025-02-15T19:07:24.003453Z",
     "start_time": "2025-02-15T19:07:23.992585Z"
    }
   },
   "cell_type": "code",
   "source": [
    "BASE_URL = \"https://us-central1-dlthub-analytics.cloudfunctions.net\"\n",
    "API_ENDPOINT = \"data_engineering_zoomcamp_api\""
   ],
   "id": "46095ee7fb6bb168",
   "outputs": [],
   "execution_count": 6
  },
  {
   "metadata": {},
   "cell_type": "markdown",
   "source": "## Question 1",
   "id": "3340e97afa395c2b"
  },
  {
   "metadata": {
    "collapsed": true,
    "ExecuteTime": {
     "end_time": "2025-02-15T18:55:15.584424Z",
     "start_time": "2025-02-15T18:54:50.955029Z"
    }
   },
   "cell_type": "code",
   "outputs": [
    {
     "name": "stdout",
     "output_type": "stream",
     "text": [
      "Collecting dlt[duckdb]\n",
      "  Obtaining dependency information for dlt[duckdb] from https://files.pythonhosted.org/packages/34/77/45520f098888c593ff9bf7a8c38bd45db6db0c2a138b0c6829c58b65dc93/dlt-1.6.1-py3-none-any.whl.metadata\n",
      "  Downloading dlt-1.6.1-py3-none-any.whl.metadata (11 kB)\n",
      "Requirement already satisfied: PyYAML>=5.4.1 in c:\\users\\gamro\\pycharmprojects\\de-zoomcamp\\.venv\\lib\\site-packages (from dlt[duckdb]) (6.0.2)\n",
      "Requirement already satisfied: click>=7.1 in c:\\users\\gamro\\pycharmprojects\\de-zoomcamp\\.venv\\lib\\site-packages (from dlt[duckdb]) (8.1.8)\n",
      "Collecting duckdb>=0.9 (from dlt[duckdb])\n",
      "  Obtaining dependency information for duckdb>=0.9 from https://files.pythonhosted.org/packages/31/bc/65f19868c927285dd0ca50646861915e3e5f92a0d05e9e7d9e9faed2f16e/duckdb-1.2.0-cp312-cp312-win_amd64.whl.metadata\n",
      "  Downloading duckdb-1.2.0-cp312-cp312-win_amd64.whl.metadata (995 bytes)\n",
      "Collecting fsspec>=2022.4.0 (from dlt[duckdb])\n",
      "  Obtaining dependency information for fsspec>=2022.4.0 from https://files.pythonhosted.org/packages/e2/94/758680531a00d06e471ef649e4ec2ed6bf185356a7f9fbfbb7368a40bd49/fsspec-2025.2.0-py3-none-any.whl.metadata\n",
      "  Downloading fsspec-2025.2.0-py3-none-any.whl.metadata (11 kB)\n",
      "Collecting gitpython>=3.1.29 (from dlt[duckdb])\n",
      "  Obtaining dependency information for gitpython>=3.1.29 from https://files.pythonhosted.org/packages/1d/9a/4114a9057db2f1462d5c8f8390ab7383925fe1ac012eaa42402ad65c2963/GitPython-3.1.44-py3-none-any.whl.metadata\n",
      "  Downloading GitPython-3.1.44-py3-none-any.whl.metadata (13 kB)\n",
      "Collecting giturlparse>=0.10.0 (from dlt[duckdb])\n",
      "  Obtaining dependency information for giturlparse>=0.10.0 from https://files.pythonhosted.org/packages/dd/94/c6ff3388b8e3225a014e55aed957188639aa0966443e0408d38f0c9614a7/giturlparse-0.12.0-py2.py3-none-any.whl.metadata\n",
      "  Downloading giturlparse-0.12.0-py2.py3-none-any.whl.metadata (4.5 kB)\n",
      "Collecting hexbytes>=0.2.2 (from dlt[duckdb])\n",
      "  Obtaining dependency information for hexbytes>=0.2.2 from https://files.pythonhosted.org/packages/02/96/035871b535a728700d3cc5b94cf883706f345c5a088253f26f0bee0b7939/hexbytes-1.3.0-py3-none-any.whl.metadata\n",
      "  Downloading hexbytes-1.3.0-py3-none-any.whl.metadata (3.3 kB)\n",
      "Collecting humanize>=4.4.0 (from dlt[duckdb])\n",
      "  Obtaining dependency information for humanize>=4.4.0 from https://files.pythonhosted.org/packages/d5/6b/09e54be6cc58913fd991728b9b8f959b58ade87a2a7684318c3e90e5f1dc/humanize-4.12.0-py3-none-any.whl.metadata\n",
      "  Downloading humanize-4.12.0-py3-none-any.whl.metadata (7.8 kB)\n",
      "Collecting jsonpath-ng>=1.5.3 (from dlt[duckdb])\n",
      "  Obtaining dependency information for jsonpath-ng>=1.5.3 from https://files.pythonhosted.org/packages/35/5a/73ecb3d82f8615f32ccdadeb9356726d6cae3a4bbc840b437ceb95708063/jsonpath_ng-1.7.0-py3-none-any.whl.metadata\n",
      "  Downloading jsonpath_ng-1.7.0-py3-none-any.whl.metadata (18 kB)\n",
      "Collecting makefun>=1.15.0 (from dlt[duckdb])\n",
      "  Obtaining dependency information for makefun>=1.15.0 from https://files.pythonhosted.org/packages/89/a1/3e145759e776c8866488a71270c399bf7c4e554551ac2e247aa0a18a0596/makefun-1.15.6-py2.py3-none-any.whl.metadata\n",
      "  Downloading makefun-1.15.6-py2.py3-none-any.whl.metadata (3.2 kB)\n",
      "Collecting orjson!=3.10.1,!=3.9.11,!=3.9.12,!=3.9.13,!=3.9.14,<4,>=3.6.7 (from dlt[duckdb])\n",
      "  Obtaining dependency information for orjson!=3.10.1,!=3.9.11,!=3.9.12,!=3.9.13,!=3.9.14,<4,>=3.6.7 from https://files.pythonhosted.org/packages/ed/eb/a85317ee1732d1034b92d56f89f1de4d7bf7904f5c8fb9dcdd5b1c83917f/orjson-3.10.15-cp312-cp312-win_amd64.whl.metadata\n",
      "  Downloading orjson-3.10.15-cp312-cp312-win_amd64.whl.metadata (42 kB)\n",
      "     ---------------------------------------- 0.0/42.9 kB ? eta -:--:--\n",
      "     ------------------------------------ - 41.0/42.9 kB 667.8 kB/s eta 0:00:01\n",
      "     -------------------------------------- 42.9/42.9 kB 351.3 kB/s eta 0:00:00\n",
      "Requirement already satisfied: packaging>=21.1 in c:\\users\\gamro\\pycharmprojects\\de-zoomcamp\\.venv\\lib\\site-packages (from dlt[duckdb]) (24.2)\n",
      "Collecting pathvalidate>=2.5.2 (from dlt[duckdb])\n",
      "  Obtaining dependency information for pathvalidate>=2.5.2 from https://files.pythonhosted.org/packages/50/14/c5a0e1a947909810fc4c043b84cac472b70e438148d34f5393be1bac663f/pathvalidate-3.2.3-py3-none-any.whl.metadata\n",
      "  Downloading pathvalidate-3.2.3-py3-none-any.whl.metadata (12 kB)\n",
      "Collecting pendulum>=2.1.2 (from dlt[duckdb])\n",
      "  Obtaining dependency information for pendulum>=2.1.2 from https://files.pythonhosted.org/packages/9a/91/fcd992eb36b77ab43f2cf44307b72c01a6fbb27f55c1bb2d4af30e9a6cb7/pendulum-3.0.0-cp312-none-win_amd64.whl.metadata\n",
      "  Downloading pendulum-3.0.0-cp312-none-win_amd64.whl.metadata (7.0 kB)\n",
      "Collecting pluggy>=1.3.0 (from dlt[duckdb])\n",
      "  Obtaining dependency information for pluggy>=1.3.0 from https://files.pythonhosted.org/packages/88/5f/e351af9a41f866ac3f1fac4ca0613908d9a41741cfcf2228f4ad853b697d/pluggy-1.5.0-py3-none-any.whl.metadata\n",
      "  Downloading pluggy-1.5.0-py3-none-any.whl.metadata (4.8 kB)\n",
      "Requirement already satisfied: pytz>=2022.6 in c:\\users\\gamro\\pycharmprojects\\de-zoomcamp\\.venv\\lib\\site-packages (from dlt[duckdb]) (2024.2)\n",
      "Requirement already satisfied: pywin32>=306 in c:\\users\\gamro\\pycharmprojects\\de-zoomcamp\\.venv\\lib\\site-packages (from dlt[duckdb]) (308)\n",
      "Requirement already satisfied: requests>=2.26.0 in c:\\users\\gamro\\pycharmprojects\\de-zoomcamp\\.venv\\lib\\site-packages (from dlt[duckdb]) (2.32.3)\n",
      "Collecting requirements-parser>=0.5.0 (from dlt[duckdb])\n",
      "  Obtaining dependency information for requirements-parser>=0.5.0 from https://files.pythonhosted.org/packages/88/33/190393a7d36872e237cbc99e6c44d9a078a1ba7b406462fe6eafd5a28e04/requirements_parser-0.11.0-py3-none-any.whl.metadata\n",
      "  Downloading requirements_parser-0.11.0-py3-none-any.whl.metadata (4.7 kB)\n",
      "Collecting rich-argparse<2.0.0,>=1.6.0 (from dlt[duckdb])\n",
      "  Obtaining dependency information for rich-argparse<2.0.0,>=1.6.0 from https://files.pythonhosted.org/packages/bb/9c/dc7cbeb99a7b7422392ed7f327efdbb958bc0faf424aef5f130309320bda/rich_argparse-1.7.0-py3-none-any.whl.metadata\n",
      "  Downloading rich_argparse-1.7.0-py3-none-any.whl.metadata (14 kB)\n",
      "Collecting semver>=3.0.0 (from dlt[duckdb])\n",
      "  Obtaining dependency information for semver>=3.0.0 from https://files.pythonhosted.org/packages/a6/24/4d91e05817e92e3a61c8a21e08fd0f390f5301f1c448b137c57c4bc6e543/semver-3.0.4-py3-none-any.whl.metadata\n",
      "  Downloading semver-3.0.4-py3-none-any.whl.metadata (6.8 kB)\n",
      "Requirement already satisfied: setuptools>=65.6.0 in c:\\users\\gamro\\pycharmprojects\\de-zoomcamp\\.venv\\lib\\site-packages (from dlt[duckdb]) (75.8.0)\n",
      "Collecting simplejson>=3.17.5 (from dlt[duckdb])\n",
      "  Obtaining dependency information for simplejson>=3.17.5 from https://files.pythonhosted.org/packages/bc/5d/4e243e937fa3560107c69f6f7c2eed8589163f5ed14324e864871daa2dd9/simplejson-3.20.1-cp312-cp312-win_amd64.whl.metadata\n",
      "  Downloading simplejson-3.20.1-cp312-cp312-win_amd64.whl.metadata (3.4 kB)\n",
      "Collecting tenacity>=8.0.2 (from dlt[duckdb])\n",
      "  Obtaining dependency information for tenacity>=8.0.2 from https://files.pythonhosted.org/packages/b6/cb/b86984bed139586d01532a587464b5805f12e397594f19f931c4c2fbfa61/tenacity-9.0.0-py3-none-any.whl.metadata\n",
      "  Downloading tenacity-9.0.0-py3-none-any.whl.metadata (1.2 kB)\n",
      "Collecting tomlkit>=0.11.3 (from dlt[duckdb])\n",
      "  Obtaining dependency information for tomlkit>=0.11.3 from https://files.pythonhosted.org/packages/f9/b6/a447b5e4ec71e13871be01ba81f5dfc9d0af7e473da256ff46bc0e24026f/tomlkit-0.13.2-py3-none-any.whl.metadata\n",
      "  Downloading tomlkit-0.13.2-py3-none-any.whl.metadata (2.7 kB)\n",
      "Requirement already satisfied: typing-extensions>=4.8.0 in c:\\users\\gamro\\pycharmprojects\\de-zoomcamp\\.venv\\lib\\site-packages (from dlt[duckdb]) (4.12.2)\n",
      "Requirement already satisfied: tzdata>=2022.1 in c:\\users\\gamro\\pycharmprojects\\de-zoomcamp\\.venv\\lib\\site-packages (from dlt[duckdb]) (2025.1)\n",
      "Collecting win-precise-time>=1.4.2 (from dlt[duckdb])\n",
      "  Obtaining dependency information for win-precise-time>=1.4.2 from https://files.pythonhosted.org/packages/17/19/7ea9a22a69fc23d5ca02e8edf65e4a335a210497794af1af0ef8fda91fa0/win_precise_time-1.4.2-cp312-cp312-win_amd64.whl.metadata\n",
      "  Downloading win_precise_time-1.4.2-cp312-cp312-win_amd64.whl.metadata (3.0 kB)\n",
      "Requirement already satisfied: colorama in c:\\users\\gamro\\pycharmprojects\\de-zoomcamp\\.venv\\lib\\site-packages (from click>=7.1->dlt[duckdb]) (0.4.6)\n",
      "Collecting gitdb<5,>=4.0.1 (from gitpython>=3.1.29->dlt[duckdb])\n",
      "  Obtaining dependency information for gitdb<5,>=4.0.1 from https://files.pythonhosted.org/packages/a0/61/5c78b91c3143ed5c14207f463aecfc8f9dbb5092fb2869baf37c273b2705/gitdb-4.0.12-py3-none-any.whl.metadata\n",
      "  Downloading gitdb-4.0.12-py3-none-any.whl.metadata (1.2 kB)\n",
      "Collecting ply (from jsonpath-ng>=1.5.3->dlt[duckdb])\n",
      "  Obtaining dependency information for ply from https://files.pythonhosted.org/packages/a3/58/35da89ee790598a0700ea49b2a66594140f44dec458c07e8e3d4979137fc/ply-3.11-py2.py3-none-any.whl.metadata\n",
      "  Downloading ply-3.11-py2.py3-none-any.whl.metadata (844 bytes)\n",
      "Requirement already satisfied: python-dateutil>=2.6 in c:\\users\\gamro\\pycharmprojects\\de-zoomcamp\\.venv\\lib\\site-packages (from pendulum>=2.1.2->dlt[duckdb]) (2.9.0.post0)\n",
      "Collecting time-machine>=2.6.0 (from pendulum>=2.1.2->dlt[duckdb])\n",
      "  Obtaining dependency information for time-machine>=2.6.0 from https://files.pythonhosted.org/packages/d4/7c/d4e67cc031f9653c92167ccf87d241e3208653d191c96ac79281c273ab92/time_machine-2.16.0-cp312-cp312-win_amd64.whl.metadata\n",
      "  Downloading time_machine-2.16.0-cp312-cp312-win_amd64.whl.metadata (21 kB)\n",
      "Requirement already satisfied: charset-normalizer<4,>=2 in c:\\users\\gamro\\pycharmprojects\\de-zoomcamp\\.venv\\lib\\site-packages (from requests>=2.26.0->dlt[duckdb]) (3.4.1)\n",
      "Requirement already satisfied: idna<4,>=2.5 in c:\\users\\gamro\\pycharmprojects\\de-zoomcamp\\.venv\\lib\\site-packages (from requests>=2.26.0->dlt[duckdb]) (3.10)\n",
      "Requirement already satisfied: urllib3<3,>=1.21.1 in c:\\users\\gamro\\pycharmprojects\\de-zoomcamp\\.venv\\lib\\site-packages (from requests>=2.26.0->dlt[duckdb]) (2.3.0)\n",
      "Requirement already satisfied: certifi>=2017.4.17 in c:\\users\\gamro\\pycharmprojects\\de-zoomcamp\\.venv\\lib\\site-packages (from requests>=2.26.0->dlt[duckdb]) (2024.12.14)\n",
      "Collecting types-setuptools>=69.1.0 (from requirements-parser>=0.5.0->dlt[duckdb])\n",
      "  Obtaining dependency information for types-setuptools>=69.1.0 from https://files.pythonhosted.org/packages/2d/b4/5978a63dac80d9a653fdb73f58e08b208486d303f9a3ee481f0c807630de/types_setuptools-75.8.0.20250210-py3-none-any.whl.metadata\n",
      "  Downloading types_setuptools-75.8.0.20250210-py3-none-any.whl.metadata (2.2 kB)\n",
      "Collecting rich>=11.0.0 (from rich-argparse<2.0.0,>=1.6.0->dlt[duckdb])\n",
      "  Obtaining dependency information for rich>=11.0.0 from https://files.pythonhosted.org/packages/19/71/39c7c0d87f8d4e6c020a393182060eaefeeae6c01dab6a84ec346f2567df/rich-13.9.4-py3-none-any.whl.metadata\n",
      "  Downloading rich-13.9.4-py3-none-any.whl.metadata (18 kB)\n",
      "Collecting smmap<6,>=3.0.1 (from gitdb<5,>=4.0.1->gitpython>=3.1.29->dlt[duckdb])\n",
      "  Obtaining dependency information for smmap<6,>=3.0.1 from https://files.pythonhosted.org/packages/04/be/d09147ad1ec7934636ad912901c5fd7667e1c858e19d355237db0d0cd5e4/smmap-5.0.2-py3-none-any.whl.metadata\n",
      "  Downloading smmap-5.0.2-py3-none-any.whl.metadata (4.3 kB)\n",
      "Requirement already satisfied: six>=1.5 in c:\\users\\gamro\\pycharmprojects\\de-zoomcamp\\.venv\\lib\\site-packages (from python-dateutil>=2.6->pendulum>=2.1.2->dlt[duckdb]) (1.17.0)\n",
      "Collecting markdown-it-py>=2.2.0 (from rich>=11.0.0->rich-argparse<2.0.0,>=1.6.0->dlt[duckdb])\n",
      "  Obtaining dependency information for markdown-it-py>=2.2.0 from https://files.pythonhosted.org/packages/42/d7/1ec15b46af6af88f19b8e5ffea08fa375d433c998b8a7639e76935c14f1f/markdown_it_py-3.0.0-py3-none-any.whl.metadata\n",
      "  Downloading markdown_it_py-3.0.0-py3-none-any.whl.metadata (6.9 kB)\n",
      "Requirement already satisfied: pygments<3.0.0,>=2.13.0 in c:\\users\\gamro\\pycharmprojects\\de-zoomcamp\\.venv\\lib\\site-packages (from rich>=11.0.0->rich-argparse<2.0.0,>=1.6.0->dlt[duckdb]) (2.19.1)\n",
      "Collecting mdurl~=0.1 (from markdown-it-py>=2.2.0->rich>=11.0.0->rich-argparse<2.0.0,>=1.6.0->dlt[duckdb])\n",
      "  Obtaining dependency information for mdurl~=0.1 from https://files.pythonhosted.org/packages/b3/38/89ba8ad64ae25be8de66a6d463314cf1eb366222074cfda9ee839c56a4b4/mdurl-0.1.2-py3-none-any.whl.metadata\n",
      "  Downloading mdurl-0.1.2-py3-none-any.whl.metadata (1.6 kB)\n",
      "Downloading duckdb-1.2.0-cp312-cp312-win_amd64.whl (11.4 MB)\n",
      "   ---------------------------------------- 0.0/11.4 MB ? eta -:--:--\n",
      "   ---------------------------------------- 0.1/11.4 MB 4.5 MB/s eta 0:00:03\n",
      "    --------------------------------------- 0.2/11.4 MB 2.4 MB/s eta 0:00:05\n",
      "   - -------------------------------------- 0.3/11.4 MB 2.2 MB/s eta 0:00:06\n",
      "   - -------------------------------------- 0.3/11.4 MB 2.2 MB/s eta 0:00:06\n",
      "   - -------------------------------------- 0.3/11.4 MB 1.4 MB/s eta 0:00:09\n",
      "   - -------------------------------------- 0.4/11.4 MB 1.4 MB/s eta 0:00:08\n",
      "   - -------------------------------------- 0.4/11.4 MB 1.4 MB/s eta 0:00:08\n",
      "   -- ------------------------------------- 0.6/11.4 MB 1.6 MB/s eta 0:00:07\n",
      "   -- ------------------------------------- 0.7/11.4 MB 1.7 MB/s eta 0:00:07\n",
      "   -- ------------------------------------- 0.8/11.4 MB 1.8 MB/s eta 0:00:06\n",
      "   --- ------------------------------------ 1.0/11.4 MB 2.0 MB/s eta 0:00:06\n",
      "   ---- ----------------------------------- 1.1/11.4 MB 2.1 MB/s eta 0:00:05\n",
      "   ---- ----------------------------------- 1.3/11.4 MB 2.2 MB/s eta 0:00:05\n",
      "   ----- ---------------------------------- 1.5/11.4 MB 2.3 MB/s eta 0:00:05\n",
      "   ----- ---------------------------------- 1.6/11.4 MB 2.3 MB/s eta 0:00:05\n",
      "   ------ --------------------------------- 1.8/11.4 MB 2.4 MB/s eta 0:00:04\n",
      "   ------ --------------------------------- 1.9/11.4 MB 2.5 MB/s eta 0:00:04\n",
      "   ------- -------------------------------- 2.1/11.4 MB 2.5 MB/s eta 0:00:04\n",
      "   ------- -------------------------------- 2.3/11.4 MB 2.6 MB/s eta 0:00:04\n",
      "   -------- ------------------------------- 2.4/11.4 MB 2.6 MB/s eta 0:00:04\n",
      "   --------- ------------------------------ 2.6/11.4 MB 2.7 MB/s eta 0:00:04\n",
      "   --------- ------------------------------ 2.7/11.4 MB 2.8 MB/s eta 0:00:04\n",
      "   ---------- ----------------------------- 3.0/11.4 MB 2.8 MB/s eta 0:00:03\n",
      "   ---------- ----------------------------- 3.1/11.4 MB 2.8 MB/s eta 0:00:03\n",
      "   ----------- ---------------------------- 3.2/11.4 MB 2.9 MB/s eta 0:00:03\n",
      "   ----------- ---------------------------- 3.2/11.4 MB 2.9 MB/s eta 0:00:03\n",
      "   ----------- ---------------------------- 3.2/11.4 MB 2.9 MB/s eta 0:00:03\n",
      "   ----------- ---------------------------- 3.2/11.4 MB 2.9 MB/s eta 0:00:03\n",
      "   ----------- ---------------------------- 3.3/11.4 MB 2.5 MB/s eta 0:00:04\n",
      "   ------------ --------------------------- 3.5/11.4 MB 2.5 MB/s eta 0:00:04\n",
      "   ------------- -------------------------- 3.8/11.4 MB 2.7 MB/s eta 0:00:03\n",
      "   -------------- ------------------------- 4.1/11.4 MB 2.8 MB/s eta 0:00:03\n",
      "   --------------- ------------------------ 4.3/11.4 MB 2.8 MB/s eta 0:00:03\n",
      "   ---------------- ----------------------- 4.6/11.4 MB 3.0 MB/s eta 0:00:03\n",
      "   ----------------- ---------------------- 4.9/11.4 MB 3.1 MB/s eta 0:00:03\n",
      "   ------------------ --------------------- 5.3/11.4 MB 3.2 MB/s eta 0:00:02\n",
      "   ------------------ --------------------- 5.4/11.4 MB 3.2 MB/s eta 0:00:02\n",
      "   -------------------- ------------------- 5.7/11.4 MB 3.3 MB/s eta 0:00:02\n",
      "   -------------------- ------------------- 5.9/11.4 MB 3.3 MB/s eta 0:00:02\n",
      "   --------------------- ------------------ 6.2/11.4 MB 3.4 MB/s eta 0:00:02\n",
      "   ---------------------- ----------------- 6.4/11.4 MB 3.4 MB/s eta 0:00:02\n",
      "   ----------------------- ---------------- 6.8/11.4 MB 3.5 MB/s eta 0:00:02\n",
      "   ------------------------- -------------- 7.1/11.4 MB 3.6 MB/s eta 0:00:02\n",
      "   -------------------------- ------------- 7.4/11.4 MB 3.7 MB/s eta 0:00:02\n",
      "   -------------------------- ------------- 7.6/11.4 MB 3.7 MB/s eta 0:00:02\n",
      "   ---------------------------- ----------- 8.1/11.4 MB 3.8 MB/s eta 0:00:01\n",
      "   ---------------------------- ----------- 8.2/11.4 MB 3.8 MB/s eta 0:00:01\n",
      "   ------------------------------ --------- 8.6/11.4 MB 3.9 MB/s eta 0:00:01\n",
      "   ------------------------------ --------- 8.8/11.4 MB 3.9 MB/s eta 0:00:01\n",
      "   ------------------------------ --------- 8.8/11.4 MB 3.8 MB/s eta 0:00:01\n",
      "   -------------------------------- ------- 9.2/11.4 MB 3.9 MB/s eta 0:00:01\n",
      "   --------------------------------- ------ 9.6/11.4 MB 4.0 MB/s eta 0:00:01\n",
      "   ----------------------------------- ---- 10.0/11.4 MB 4.1 MB/s eta 0:00:01\n",
      "   ------------------------------------ --- 10.4/11.4 MB 4.2 MB/s eta 0:00:01\n",
      "   ------------------------------------- -- 10.7/11.4 MB 4.7 MB/s eta 0:00:01\n",
      "   ---------------------------------------  11.2/11.4 MB 4.9 MB/s eta 0:00:01\n",
      "   ---------------------------------------  11.3/11.4 MB 4.9 MB/s eta 0:00:01\n",
      "   ---------------------------------------- 11.4/11.4 MB 4.8 MB/s eta 0:00:00\n",
      "Downloading fsspec-2025.2.0-py3-none-any.whl (184 kB)\n",
      "   ---------------------------------------- 0.0/184.5 kB ? eta -:--:--\n",
      "   --------------------------------------- 184.5/184.5 kB 10.9 MB/s eta 0:00:00\n",
      "Downloading GitPython-3.1.44-py3-none-any.whl (207 kB)\n",
      "   ---------------------------------------- 0.0/207.6 kB ? eta -:--:--\n",
      "   --------------------------------------- 207.6/207.6 kB 12.3 MB/s eta 0:00:00\n",
      "Downloading giturlparse-0.12.0-py2.py3-none-any.whl (15 kB)\n",
      "Downloading hexbytes-1.3.0-py3-none-any.whl (4.9 kB)\n",
      "Downloading humanize-4.12.0-py3-none-any.whl (127 kB)\n",
      "   ---------------------------------------- 0.0/127.4 kB ? eta -:--:--\n",
      "   ---------------------------------------- 127.4/127.4 kB 7.8 MB/s eta 0:00:00\n",
      "Downloading jsonpath_ng-1.7.0-py3-none-any.whl (30 kB)\n",
      "Downloading makefun-1.15.6-py2.py3-none-any.whl (22 kB)\n",
      "Downloading orjson-3.10.15-cp312-cp312-win_amd64.whl (133 kB)\n",
      "   ---------------------------------------- 0.0/133.7 kB ? eta -:--:--\n",
      "   ---------------------------------------- 133.7/133.7 kB 7.7 MB/s eta 0:00:00\n",
      "Downloading pathvalidate-3.2.3-py3-none-any.whl (24 kB)\n",
      "Downloading pendulum-3.0.0-cp312-none-win_amd64.whl (293 kB)\n",
      "   ---------------------------------------- 0.0/293.5 kB ? eta -:--:--\n",
      "   ---------------------------------------- 293.5/293.5 kB 8.9 MB/s eta 0:00:00\n",
      "Downloading pluggy-1.5.0-py3-none-any.whl (20 kB)\n",
      "Downloading requirements_parser-0.11.0-py3-none-any.whl (14 kB)\n",
      "Downloading rich_argparse-1.7.0-py3-none-any.whl (25 kB)\n",
      "Downloading semver-3.0.4-py3-none-any.whl (17 kB)\n",
      "Downloading simplejson-3.20.1-cp312-cp312-win_amd64.whl (75 kB)\n",
      "   ---------------------------------------- 0.0/75.7 kB ? eta -:--:--\n",
      "   ---------------------------------------- 75.7/75.7 kB ? eta 0:00:00\n",
      "Downloading tenacity-9.0.0-py3-none-any.whl (28 kB)\n",
      "Downloading tomlkit-0.13.2-py3-none-any.whl (37 kB)\n",
      "Downloading win_precise_time-1.4.2-cp312-cp312-win_amd64.whl (14 kB)\n",
      "Downloading dlt-1.6.1-py3-none-any.whl (884 kB)\n",
      "   ---------------------------------------- 0.0/884.3 kB ? eta -:--:--\n",
      "   ---------------------------- ---------- 645.1/884.3 kB 20.5 MB/s eta 0:00:01\n",
      "   --------------------------------------- 884.3/884.3 kB 11.2 MB/s eta 0:00:00\n",
      "Downloading gitdb-4.0.12-py3-none-any.whl (62 kB)\n",
      "   ---------------------------------------- 0.0/62.8 kB ? eta -:--:--\n",
      "   ---------------------------------------- 62.8/62.8 kB 3.5 MB/s eta 0:00:00\n",
      "Downloading rich-13.9.4-py3-none-any.whl (242 kB)\n",
      "   ---------------------------------------- 0.0/242.4 kB ? eta -:--:--\n",
      "   ---------------------------------------- 242.4/242.4 kB 7.3 MB/s eta 0:00:00\n",
      "Downloading time_machine-2.16.0-cp312-cp312-win_amd64.whl (19 kB)\n",
      "Downloading types_setuptools-75.8.0.20250210-py3-none-any.whl (71 kB)\n",
      "   ---------------------------------------- 0.0/71.5 kB ? eta -:--:--\n",
      "   ---------------------------------------- 71.5/71.5 kB ? eta 0:00:00\n",
      "Downloading ply-3.11-py2.py3-none-any.whl (49 kB)\n",
      "   ---------------------------------------- 0.0/49.6 kB ? eta -:--:--\n",
      "   ---------------------------------------- 49.6/49.6 kB ? eta 0:00:00\n",
      "Downloading markdown_it_py-3.0.0-py3-none-any.whl (87 kB)\n",
      "   ---------------------------------------- 0.0/87.5 kB ? eta -:--:--\n",
      "   ---------------------------------------- 87.5/87.5 kB ? eta 0:00:00\n",
      "Downloading smmap-5.0.2-py3-none-any.whl (24 kB)\n",
      "Downloading mdurl-0.1.2-py3-none-any.whl (10.0 kB)\n",
      "Installing collected packages: ply, makefun, win-precise-time, types-setuptools, tomlkit, tenacity, smmap, simplejson, semver, pluggy, pathvalidate, orjson, mdurl, jsonpath-ng, humanize, hexbytes, giturlparse, fsspec, duckdb, time-machine, requirements-parser, markdown-it-py, gitdb, rich, pendulum, gitpython, rich-argparse, dlt\n",
      "Successfully installed dlt-1.6.1 duckdb-1.2.0 fsspec-2025.2.0 gitdb-4.0.12 gitpython-3.1.44 giturlparse-0.12.0 hexbytes-1.3.0 humanize-4.12.0 jsonpath-ng-1.7.0 makefun-1.15.6 markdown-it-py-3.0.0 mdurl-0.1.2 orjson-3.10.15 pathvalidate-3.2.3 pendulum-3.0.0 pluggy-1.5.0 ply-3.11 requirements-parser-0.11.0 rich-13.9.4 rich-argparse-1.7.0 semver-3.0.4 simplejson-3.20.1 smmap-5.0.2 tenacity-9.0.0 time-machine-2.16.0 tomlkit-0.13.2 types-setuptools-75.8.0.20250210 win-precise-time-1.4.2\n"
     ]
    },
    {
     "name": "stderr",
     "output_type": "stream",
     "text": [
      "\n",
      "[notice] A new release of pip is available: 23.2.1 -> 25.0.1\n",
      "[notice] To update, run: python.exe -m pip install --upgrade pip\n"
     ]
    }
   ],
   "execution_count": 1,
   "source": "!pip install dlt[duckdb]",
   "id": "initial_id"
  },
  {
   "metadata": {
    "ExecuteTime": {
     "end_time": "2025-02-15T18:55:49.983172Z",
     "start_time": "2025-02-15T18:55:43.849587Z"
    }
   },
   "cell_type": "code",
   "source": [
    "import dlt\n",
    "\n",
    "print(\"dlt version:\", dlt.__version__)"
   ],
   "id": "3f2fdc1f49fba74",
   "outputs": [
    {
     "name": "stdout",
     "output_type": "stream",
     "text": [
      "dlt version: 1.6.1\n"
     ]
    }
   ],
   "execution_count": 2
  },
  {
   "metadata": {},
   "cell_type": "markdown",
   "source": "## Question 2",
   "id": "1580f11a0433950e"
  },
  {
   "metadata": {
    "ExecuteTime": {
     "end_time": "2025-02-15T19:08:08.485672Z",
     "start_time": "2025-02-15T19:08:08.427450Z"
    }
   },
   "cell_type": "code",
   "source": [
    "from dlt.sources.helpers.rest_client import RESTClient\n",
    "from dlt.sources.helpers.rest_client.paginators import PageNumberPaginator\n",
    "\n",
    "\n",
    "@dlt.resource(name=\"rides\")\n",
    "def get_rides():\n",
    "    client = RESTClient(\n",
    "        base_url=BASE_URL,\n",
    "        paginator=PageNumberPaginator(\n",
    "            base_page=1,\n",
    "            total_path=None\n",
    "        ),\n",
    "    )\n",
    "    for page in client.paginate(API_ENDPOINT):\n",
    "        yield page\n",
    "\n",
    "\n",
    "pipeline = dlt.pipeline(\n",
    "    pipeline_name=\"ny_taxi_pipeline\",\n",
    "    destination=\"duckdb\",\n",
    "    dataset_name=\"ny_taxi_data\"\n",
    ")"
   ],
   "id": "a92b405d5fa7597f",
   "outputs": [],
   "execution_count": 8
  },
  {
   "metadata": {
    "ExecuteTime": {
     "end_time": "2025-02-15T19:08:36.923095Z",
     "start_time": "2025-02-15T19:08:09.398624Z"
    }
   },
   "cell_type": "code",
   "source": [
    "load_info = pipeline.run(get_rides)\n",
    "print(load_info)"
   ],
   "id": "f0393cf3eb68b575",
   "outputs": [
    {
     "name": "stdout",
     "output_type": "stream",
     "text": [
      "Pipeline ny_taxi_pipeline load step completed in 1.57 seconds\n",
      "1 load package(s) were loaded to destination duckdb and into dataset ny_taxi_data\n",
      "The duckdb destination used duckdb:///C:\\Users\\gamro\\PycharmProjects\\de-zoomcamp\\homework_workshop\\ny_taxi_pipeline.duckdb location to store data\n",
      "Load package 1739646489.5025544 is LOADED and contains no failed jobs\n"
     ]
    }
   ],
   "execution_count": 9
  },
  {
   "metadata": {
    "ExecuteTime": {
     "end_time": "2025-02-15T19:09:10.779364Z",
     "start_time": "2025-02-15T19:09:10.690762Z"
    }
   },
   "cell_type": "code",
   "source": [
    "import duckdb\n",
    "\n",
    "# A database '<pipeline_name>.duckdb' was created in working directory so just connect to it\n",
    "\n",
    "# Connect to the DuckDB database\n",
    "conn = duckdb.connect(f\"{pipeline.pipeline_name}.duckdb\")\n",
    "\n",
    "# Set search path to the dataset\n",
    "conn.sql(f\"SET search_path = '{pipeline.dataset_name}'\")\n",
    "\n",
    "# Describe the dataset\n",
    "conn.sql(\"DESCRIBE\").df()"
   ],
   "id": "2cc7d2c08f32ad95",
   "outputs": [
    {
     "data": {
      "text/plain": [
       "           database        schema                 name  \\\n",
       "0  ny_taxi_pipeline  ny_taxi_data           _dlt_loads   \n",
       "1  ny_taxi_pipeline  ny_taxi_data  _dlt_pipeline_state   \n",
       "2  ny_taxi_pipeline  ny_taxi_data         _dlt_version   \n",
       "3  ny_taxi_pipeline  ny_taxi_data                rides   \n",
       "\n",
       "                                        column_names  \\\n",
       "0  [load_id, schema_name, status, inserted_at, sc...   \n",
       "1  [version, engine_version, pipeline_name, state...   \n",
       "2  [version, engine_version, inserted_at, schema_...   \n",
       "3  [end_lat, end_lon, fare_amt, passenger_count, ...   \n",
       "\n",
       "                                        column_types  temporary  \n",
       "0  [VARCHAR, VARCHAR, BIGINT, TIMESTAMP WITH TIME...      False  \n",
       "1  [BIGINT, BIGINT, VARCHAR, VARCHAR, TIMESTAMP W...      False  \n",
       "2  [BIGINT, BIGINT, TIMESTAMP WITH TIME ZONE, VAR...      False  \n",
       "3  [DOUBLE, DOUBLE, DOUBLE, BIGINT, VARCHAR, DOUB...      False  "
      ],
      "text/html": [
       "<div>\n",
       "<style scoped>\n",
       "    .dataframe tbody tr th:only-of-type {\n",
       "        vertical-align: middle;\n",
       "    }\n",
       "\n",
       "    .dataframe tbody tr th {\n",
       "        vertical-align: top;\n",
       "    }\n",
       "\n",
       "    .dataframe thead th {\n",
       "        text-align: right;\n",
       "    }\n",
       "</style>\n",
       "<table border=\"1\" class=\"dataframe\">\n",
       "  <thead>\n",
       "    <tr style=\"text-align: right;\">\n",
       "      <th></th>\n",
       "      <th>database</th>\n",
       "      <th>schema</th>\n",
       "      <th>name</th>\n",
       "      <th>column_names</th>\n",
       "      <th>column_types</th>\n",
       "      <th>temporary</th>\n",
       "    </tr>\n",
       "  </thead>\n",
       "  <tbody>\n",
       "    <tr>\n",
       "      <th>0</th>\n",
       "      <td>ny_taxi_pipeline</td>\n",
       "      <td>ny_taxi_data</td>\n",
       "      <td>_dlt_loads</td>\n",
       "      <td>[load_id, schema_name, status, inserted_at, sc...</td>\n",
       "      <td>[VARCHAR, VARCHAR, BIGINT, TIMESTAMP WITH TIME...</td>\n",
       "      <td>False</td>\n",
       "    </tr>\n",
       "    <tr>\n",
       "      <th>1</th>\n",
       "      <td>ny_taxi_pipeline</td>\n",
       "      <td>ny_taxi_data</td>\n",
       "      <td>_dlt_pipeline_state</td>\n",
       "      <td>[version, engine_version, pipeline_name, state...</td>\n",
       "      <td>[BIGINT, BIGINT, VARCHAR, VARCHAR, TIMESTAMP W...</td>\n",
       "      <td>False</td>\n",
       "    </tr>\n",
       "    <tr>\n",
       "      <th>2</th>\n",
       "      <td>ny_taxi_pipeline</td>\n",
       "      <td>ny_taxi_data</td>\n",
       "      <td>_dlt_version</td>\n",
       "      <td>[version, engine_version, inserted_at, schema_...</td>\n",
       "      <td>[BIGINT, BIGINT, TIMESTAMP WITH TIME ZONE, VAR...</td>\n",
       "      <td>False</td>\n",
       "    </tr>\n",
       "    <tr>\n",
       "      <th>3</th>\n",
       "      <td>ny_taxi_pipeline</td>\n",
       "      <td>ny_taxi_data</td>\n",
       "      <td>rides</td>\n",
       "      <td>[end_lat, end_lon, fare_amt, passenger_count, ...</td>\n",
       "      <td>[DOUBLE, DOUBLE, DOUBLE, BIGINT, VARCHAR, DOUB...</td>\n",
       "      <td>False</td>\n",
       "    </tr>\n",
       "  </tbody>\n",
       "</table>\n",
       "</div>"
      ]
     },
     "execution_count": 10,
     "metadata": {},
     "output_type": "execute_result"
    }
   ],
   "execution_count": 10
  },
  {
   "metadata": {},
   "cell_type": "markdown",
   "source": "## Question 3",
   "id": "6cce360c1101e8d2"
  },
  {
   "metadata": {
    "ExecuteTime": {
     "end_time": "2025-02-15T19:10:11.791671Z",
     "start_time": "2025-02-15T19:10:11.752953Z"
    }
   },
   "cell_type": "code",
   "source": [
    "df = pipeline.dataset(dataset_type=\"default\").rides.df()\n",
    "len(df)"
   ],
   "id": "bb9c6bd269f8db4e",
   "outputs": [
    {
     "data": {
      "text/plain": [
       "10000"
      ]
     },
     "execution_count": 12,
     "metadata": {},
     "output_type": "execute_result"
    }
   ],
   "execution_count": 12
  },
  {
   "metadata": {},
   "cell_type": "markdown",
   "source": "## Question 4",
   "id": "d8ab9251674fd6f6"
  },
  {
   "metadata": {
    "ExecuteTime": {
     "end_time": "2025-02-15T19:10:44.083879Z",
     "start_time": "2025-02-15T19:10:44.046661Z"
    }
   },
   "cell_type": "code",
   "source": [
    "with pipeline.sql_client() as client:\n",
    "    res = client.execute_sql(\n",
    "            \"\"\"\n",
    "            SELECT\n",
    "            AVG(date_diff('minute', trip_pickup_date_time, trip_dropoff_date_time))\n",
    "            FROM rides;\n",
    "            \"\"\"\n",
    "        )\n",
    "    # Prints column values of the first row\n",
    "    print(res)"
   ],
   "id": "59a89a3ff38c1a92",
   "outputs": [
    {
     "name": "stdout",
     "output_type": "stream",
     "text": [
      "[(12.3049,)]\n"
     ]
    }
   ],
   "execution_count": 13
  },
  {
   "metadata": {},
   "cell_type": "code",
   "outputs": [],
   "execution_count": null,
   "source": "",
   "id": "193a649515ca7d71"
  }
 ],
 "metadata": {
  "kernelspec": {
   "display_name": "Python 3",
   "language": "python",
   "name": "python3"
  },
  "language_info": {
   "codemirror_mode": {
    "name": "ipython",
    "version": 2
   },
   "file_extension": ".py",
   "mimetype": "text/x-python",
   "name": "python",
   "nbconvert_exporter": "python",
   "pygments_lexer": "ipython2",
   "version": "2.7.6"
  }
 },
 "nbformat": 4,
 "nbformat_minor": 5
}
